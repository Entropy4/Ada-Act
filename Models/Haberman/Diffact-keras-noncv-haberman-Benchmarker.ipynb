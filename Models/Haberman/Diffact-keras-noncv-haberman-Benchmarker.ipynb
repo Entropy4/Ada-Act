{
 "cells": [
  {
   "cell_type": "code",
   "execution_count": 1,
   "metadata": {},
   "outputs": [
    {
     "data": {
      "text/html": [
       "<div>\n",
       "<style scoped>\n",
       "    .dataframe tbody tr th:only-of-type {\n",
       "        vertical-align: middle;\n",
       "    }\n",
       "\n",
       "    .dataframe tbody tr th {\n",
       "        vertical-align: top;\n",
       "    }\n",
       "\n",
       "    .dataframe thead th {\n",
       "        text-align: right;\n",
       "    }\n",
       "</style>\n",
       "<table border=\"1\" class=\"dataframe\">\n",
       "  <thead>\n",
       "    <tr style=\"text-align: right;\">\n",
       "      <th></th>\n",
       "      <th>0</th>\n",
       "      <th>1</th>\n",
       "      <th>2</th>\n",
       "      <th>3</th>\n",
       "    </tr>\n",
       "  </thead>\n",
       "  <tbody>\n",
       "    <tr>\n",
       "      <th>0</th>\n",
       "      <td>30</td>\n",
       "      <td>64</td>\n",
       "      <td>1</td>\n",
       "      <td>1</td>\n",
       "    </tr>\n",
       "    <tr>\n",
       "      <th>1</th>\n",
       "      <td>30</td>\n",
       "      <td>62</td>\n",
       "      <td>3</td>\n",
       "      <td>1</td>\n",
       "    </tr>\n",
       "    <tr>\n",
       "      <th>2</th>\n",
       "      <td>30</td>\n",
       "      <td>65</td>\n",
       "      <td>0</td>\n",
       "      <td>1</td>\n",
       "    </tr>\n",
       "    <tr>\n",
       "      <th>3</th>\n",
       "      <td>31</td>\n",
       "      <td>59</td>\n",
       "      <td>2</td>\n",
       "      <td>1</td>\n",
       "    </tr>\n",
       "    <tr>\n",
       "      <th>4</th>\n",
       "      <td>31</td>\n",
       "      <td>65</td>\n",
       "      <td>4</td>\n",
       "      <td>1</td>\n",
       "    </tr>\n",
       "  </tbody>\n",
       "</table>\n",
       "</div>"
      ],
      "text/plain": [
       "    0   1  2  3\n",
       "0  30  64  1  1\n",
       "1  30  62  3  1\n",
       "2  30  65  0  1\n",
       "3  31  59  2  1\n",
       "4  31  65  4  1"
      ]
     },
     "execution_count": 1,
     "metadata": {},
     "output_type": "execute_result"
    }
   ],
   "source": [
    "import numpy as np\n",
    "import pandas as pd\n",
    "import pickle\n",
    "import tensorflow as tf\n",
    "from tensorflow import keras\n",
    "from tensorflow.keras import layers\n",
    "import matplotlib.pyplot as plt\n",
    "from tensorflow.keras.models import Sequential\n",
    "from pandas.api.types import CategoricalDtype\n",
    "import seaborn as sns\n",
    "\n",
    "%load_ext tensorboard\n",
    "import datetime\n",
    "\n",
    "from tensorflow.keras.utils import to_categorical\n",
    "\n",
    "filename = \"../../Datasets/Haberman/haberman.csv\"\n",
    "\n",
    "df = pd.read_csv(filename,encoding = 'utf-8',header = None)\n",
    "df.head()"
   ]
  },
  {
   "cell_type": "code",
   "execution_count": 2,
   "metadata": {},
   "outputs": [
    {
     "data": {
      "text/plain": [
       "1    225\n",
       "2     81\n",
       "Name: class_val, dtype: int64"
      ]
     },
     "execution_count": 2,
     "metadata": {},
     "output_type": "execute_result"
    }
   ],
   "source": [
    "df.columns.tolist()\n",
    "df.rename(columns = {0:'op_age',1:'op_yr',2:'num_axnodes',3:'class_val'},inplace = True)\n",
    "df.head(1)\n",
    "df['class_val'].value_counts()"
   ]
  },
  {
   "cell_type": "code",
   "execution_count": 3,
   "metadata": {},
   "outputs": [],
   "source": [
    "# Create category types.\n",
    "#class_type = CategoricalDtype(['Type1','Type2','Type3'], ordered=True)\n",
    "\n",
    "# Convert all categorical values to category type.\n",
    "#df.class_val = df.class_val.astype(class_type)"
   ]
  },
  {
   "cell_type": "code",
   "execution_count": 4,
   "metadata": {},
   "outputs": [],
   "source": [
    "# Convert categories into integers for each column.\n",
    "df.class_val=df.class_val.replace({1:0, 2:1})"
   ]
  },
  {
   "cell_type": "code",
   "execution_count": 5,
   "metadata": {},
   "outputs": [
    {
     "data": {
      "image/png": "[encoded data removed]",
      "text/plain": [
       "<Figure size 720x432 with 2 Axes>"
      ]
     },
     "metadata": {
      "needs_background": "light"
     },
     "output_type": "display_data"
    }
   ],
   "source": [
    "plt.figure(figsize=(10,6))\n",
    "sns.set(font_scale=1.2)\n",
    "sns.heatmap(df.corr(),annot=True, cmap='rainbow',linewidth=0.5)\n",
    "plt.title('Correlation matrix');"
   ]
  },
  {
   "cell_type": "code",
   "execution_count": 6,
   "metadata": {},
   "outputs": [
    {
     "data": {
      "text/html": [
       "<div>\n",
       "<style scoped>\n",
       "    .dataframe tbody tr th:only-of-type {\n",
       "        vertical-align: middle;\n",
       "    }\n",
       "\n",
       "    .dataframe tbody tr th {\n",
       "        vertical-align: top;\n",
       "    }\n",
       "\n",
       "    .dataframe thead th {\n",
       "        text-align: right;\n",
       "    }\n",
       "</style>\n",
       "<table border=\"1\" class=\"dataframe\">\n",
       "  <thead>\n",
       "    <tr style=\"text-align: right;\">\n",
       "      <th></th>\n",
       "      <th>op_age</th>\n",
       "      <th>op_yr</th>\n",
       "      <th>num_axnodes</th>\n",
       "      <th>class_val</th>\n",
       "    </tr>\n",
       "  </thead>\n",
       "  <tbody>\n",
       "    <tr>\n",
       "      <th>0</th>\n",
       "      <td>30</td>\n",
       "      <td>64</td>\n",
       "      <td>1</td>\n",
       "      <td>0</td>\n",
       "    </tr>\n",
       "    <tr>\n",
       "      <th>1</th>\n",
       "      <td>30</td>\n",
       "      <td>62</td>\n",
       "      <td>3</td>\n",
       "      <td>0</td>\n",
       "    </tr>\n",
       "    <tr>\n",
       "      <th>2</th>\n",
       "      <td>30</td>\n",
       "      <td>65</td>\n",
       "      <td>0</td>\n",
       "      <td>0</td>\n",
       "    </tr>\n",
       "    <tr>\n",
       "      <th>3</th>\n",
       "      <td>31</td>\n",
       "      <td>59</td>\n",
       "      <td>2</td>\n",
       "      <td>0</td>\n",
       "    </tr>\n",
       "    <tr>\n",
       "      <th>4</th>\n",
       "      <td>31</td>\n",
       "      <td>65</td>\n",
       "      <td>4</td>\n",
       "      <td>0</td>\n",
       "    </tr>\n",
       "  </tbody>\n",
       "</table>\n",
       "</div>"
      ],
      "text/plain": [
       "   op_age  op_yr  num_axnodes  class_val\n",
       "0      30     64            1          0\n",
       "1      30     62            3          0\n",
       "2      30     65            0          0\n",
       "3      31     59            2          0\n",
       "4      31     65            4          0"
      ]
     },
     "execution_count": 6,
     "metadata": {},
     "output_type": "execute_result"
    }
   ],
   "source": [
    "# Choose attribute columns and class column.\n",
    "X=df[df.columns[:-1]]\n",
    "y=df['class_val']\n",
    "\n",
    "y = np.array(y)\n",
    "y = to_categorical(y)\n",
    "df.head()"
   ]
  },
  {
   "cell_type": "code",
   "execution_count": 7,
   "metadata": {},
   "outputs": [
    {
     "name": "stderr",
     "output_type": "stream",
     "text": [
      "Using TensorFlow backend.\n"
     ]
    }
   ],
   "source": [
    "initializer0 = keras.initializers.RandomUniform(minval = 2, maxval =2)\n",
    "initializer1 = keras.initializers.RandomUniform(minval = -2, maxval =2)\n",
    "initializer2 = keras.initializers.RandomUniform(minval = -2, maxval =2)\n",
    "\n",
    "class Diffact(keras.layers.Layer):\n",
    "    def __init__(self):\n",
    "        super(Diffact, self).__init__()\n",
    "        self.k0 = self.add_weight(name='k0', shape = (), initializer=initializer0, trainable=True)\n",
    "        self.k1 = self.add_weight(name='k1', shape = (), initializer=initializer1, trainable=True)\n",
    "        self.k2 = self.add_weight(name='k2', shape = (), initializer=initializer2, trainable=True)\n",
    "        \n",
    "    def call(self, inputs):\n",
    "        return self.k0 + tf.multiply(inputs, self.k1) + tf.multiply(tf.multiply(inputs,inputs), self.k2)\n",
    "\n",
    "from keras import backend as K\n",
    "\n",
    "class Mish(keras.layers.Layer):\n",
    "    '''\n",
    "    Mish Activation Function.\n",
    "    .. math::\n",
    "        mish(x) = x * tanh(softplus(x)) = x * tanh(ln(1 + e^{x}))\n",
    "    Shape:\n",
    "        - Input: Arbitrary. Use the keyword argument `input_shape`\n",
    "        (tuple of integers, does not include the samples axis)\n",
    "        when using this layer as the first layer in a model.\n",
    "        - Output: Same shape as the input.\n",
    "    Examples:\n",
    "        >>> X_input = Input(input_shape)\n",
    "        >>> X = Mish()(X_input)\n",
    "    '''\n",
    "\n",
    "    def __init__(self, **kwargs):\n",
    "        super(Mish, self).__init__(**kwargs)\n",
    "        self.supports_masking = True\n",
    "\n",
    "    def call(self, inputs):\n",
    "        return inputs * K.tanh(K.softplus(inputs))\n",
    "\n",
    "    def get_config(self):\n",
    "        base_config = super(Mish, self).get_config()\n",
    "        return dict(list(base_config.items()) + list(config.items()))\n",
    "\n",
    "    def compute_output_shape(self, input_shape):\n",
    "        return input_shape"
   ]
  },
  {
   "cell_type": "code",
   "execution_count": 8,
   "metadata": {},
   "outputs": [
    {
     "name": "stdout",
     "output_type": "stream",
     "text": [
      "(275, 3) (275, 2)\n",
      "(31, 3) (31, 2)\n",
      "Index(['op_age', 'op_yr', 'num_axnodes', 'class_val'], dtype='object')\n"
     ]
    }
   ],
   "source": [
    "from sklearn.model_selection import StratifiedKFold, cross_val_score, KFold, train_test_split\n",
    "from sklearn.preprocessing import LabelEncoder, StandardScaler, MinMaxScaler\n",
    "# split data into train, test\n",
    "X_train,X_test,y_train,y_test = train_test_split(X,y,test_size=0.1,random_state=69, shuffle=True)\n",
    "#kipping y since value already 1 or 0\n",
    "# encoder = LabelEncoder()\n",
    "# encoder.fit(Y)\n",
    "# encoded_Y = encoder.transform(Y)\n",
    "'''\n",
    "# normalize data\n",
    "scaler = MinMaxScaler()\n",
    "X_train_scaled = scaler.fit_transform(X_train)\n",
    "X_train = pd.DataFrame(X_train_scaled)\n",
    "X_test_scaled = scaler.fit_transform(X_test)\n",
    "X_test = pd.DataFrame(X_test_scaled)\n",
    "'''\n",
    "print (X_train.shape, y_train.shape)\n",
    "print (X_test.shape, y_test.shape)\n",
    "print (df.columns)"
   ]
  },
  {
   "cell_type": "code",
   "execution_count": 9,
   "metadata": {},
   "outputs": [
    {
     "name": "stdout",
     "output_type": "stream",
     "text": [
      "Model: \"sequential\"\n",
      "_________________________________________________________________\n",
      "Layer (type)                 Output Shape              Param #   \n",
      "=================================================================\n",
      "dense (Dense)                (None, 10)                40        \n",
      "_________________________________________________________________\n",
      "dropout (Dropout)            (None, 10)                0         \n",
      "_________________________________________________________________\n",
      "dense_1 (Dense)              (None, 2)                 22        \n",
      "=================================================================\n",
      "Total params: 62\n",
      "Trainable params: 62\n",
      "Non-trainable params: 0\n",
      "_________________________________________________________________\n"
     ]
    }
   ],
   "source": [
    "# create model with fully connected layers with dropout regulation\n",
    "model = Sequential()\n",
    "model.add(layers.Dense(10, input_dim=3, activation='selu'))\n",
    "#diffact=Diffact()\n",
    "#model.add(Mish())\n",
    "model.add(layers.Dropout(0.1))\n",
    "model.add(layers.Dense(2, activation = 'softmax'))\n",
    "model.summary()"
   ]
  },
  {
   "cell_type": "code",
   "execution_count": 10,
   "metadata": {},
   "outputs": [
    {
     "name": "stdout",
     "output_type": "stream",
     "text": [
      "Epoch 1/100\n",
      " 1/50 [..............................] - ETA: 0s - loss: 37.0502 - accuracy: 0.6000WARNING:tensorflow:From C:\\Users\\shamb\\anaconda3\\lib\\site-packages\\tensorflow\\python\\ops\\summary_ops_v2.py:1277: stop (from tensorflow.python.eager.profiler) is deprecated and will be removed after 2020-07-01.\n",
      "Instructions for updating:\n",
      "use `tf.profiler.experimental.stop` instead.\n",
      "WARNING:tensorflow:Callbacks method `on_train_batch_end` is slow compared to the batch time (batch time: 0.0010s vs `on_train_batch_end` time: 0.0251s). Check your callbacks.\n",
      "50/50 [==============================] - 0s 6ms/step - loss: 18.6465 - accuracy: 0.6964 - val_loss: 22.4625 - val_accuracy: 0.6071\n",
      "Epoch 2/100\n",
      "50/50 [==============================] - 0s 1ms/step - loss: 14.3868 - accuracy: 0.6761 - val_loss: 12.8020 - val_accuracy: 0.6071\n",
      "Epoch 3/100\n",
      "50/50 [==============================] - 0s 1ms/step - loss: 7.9347 - accuracy: 0.6680 - val_loss: 4.5220 - val_accuracy: 0.5714\n",
      "Epoch 4/100\n",
      "50/50 [==============================] - 0s 1ms/step - loss: 5.4005 - accuracy: 0.5830 - val_loss: 3.5164 - val_accuracy: 0.5000\n",
      "Epoch 5/100\n",
      "50/50 [==============================] - 0s 1ms/step - loss: 5.5039 - accuracy: 0.6316 - val_loss: 3.1249 - val_accuracy: 0.5000\n",
      "Epoch 6/100\n",
      "50/50 [==============================] - 0s 931us/step - loss: 5.1847 - accuracy: 0.5870 - val_loss: 2.8498 - val_accuracy: 0.5357\n",
      "Epoch 7/100\n",
      "50/50 [==============================] - 0s 918us/step - loss: 5.3179 - accuracy: 0.6437 - val_loss: 1.9400 - val_accuracy: 0.5000\n",
      "Epoch 8/100\n",
      "50/50 [==============================] - 0s 838us/step - loss: 4.4036 - accuracy: 0.6437 - val_loss: 1.7694 - val_accuracy: 0.5000\n",
      "Epoch 9/100\n",
      "50/50 [==============================] - 0s 997us/step - loss: 3.8489 - accuracy: 0.6397 - val_loss: 1.6545 - val_accuracy: 0.5714\n",
      "Epoch 10/100\n",
      "50/50 [==============================] - 0s 1ms/step - loss: 4.3371 - accuracy: 0.6073 - val_loss: 1.8616 - val_accuracy: 0.6071\n",
      "Epoch 11/100\n",
      "50/50 [==============================] - 0s 937us/step - loss: 3.2043 - accuracy: 0.6599 - val_loss: 1.5522 - val_accuracy: 0.6071\n",
      "Epoch 12/100\n",
      "50/50 [==============================] - 0s 838us/step - loss: 4.0829 - accuracy: 0.6235 - val_loss: 1.3506 - val_accuracy: 0.6071\n",
      "Epoch 13/100\n",
      "50/50 [==============================] - 0s 968us/step - loss: 3.3069 - accuracy: 0.6721 - val_loss: 1.2977 - val_accuracy: 0.6071\n",
      "Epoch 14/100\n",
      "50/50 [==============================] - 0s 898us/step - loss: 3.7654 - accuracy: 0.6113 - val_loss: 1.3974 - val_accuracy: 0.6071\n",
      "Epoch 15/100\n",
      "50/50 [==============================] - 0s 918us/step - loss: 3.4827 - accuracy: 0.6356 - val_loss: 1.4482 - val_accuracy: 0.6071\n",
      "Epoch 16/100\n",
      "50/50 [==============================] - 0s 1ms/step - loss: 2.3899 - accuracy: 0.6964 - val_loss: 1.0295 - val_accuracy: 0.6786\n",
      "Epoch 17/100\n",
      "50/50 [==============================] - 0s 838us/step - loss: 2.0916 - accuracy: 0.6923 - val_loss: 1.0343 - val_accuracy: 0.6786\n",
      "Epoch 18/100\n",
      "50/50 [==============================] - 0s 918us/step - loss: 2.1326 - accuracy: 0.6640 - val_loss: 1.1032 - val_accuracy: 0.6786\n",
      "Epoch 19/100\n",
      "50/50 [==============================] - 0s 937us/step - loss: 2.1192 - accuracy: 0.6883 - val_loss: 1.2258 - val_accuracy: 0.6786\n",
      "Epoch 20/100\n",
      "50/50 [==============================] - 0s 911us/step - loss: 1.8973 - accuracy: 0.7045 - val_loss: 1.0481 - val_accuracy: 0.6429\n",
      "Epoch 21/100\n",
      "50/50 [==============================] - 0s 1ms/step - loss: 2.4222 - accuracy: 0.6275 - val_loss: 0.9774 - val_accuracy: 0.6429\n",
      "Epoch 22/100\n",
      "50/50 [==============================] - 0s 1ms/step - loss: 1.8816 - accuracy: 0.6559 - val_loss: 0.9491 - val_accuracy: 0.6786\n",
      "Epoch 23/100\n",
      "50/50 [==============================] - 0s 1ms/step - loss: 1.5606 - accuracy: 0.6842 - val_loss: 1.0488 - val_accuracy: 0.6786\n",
      "Epoch 24/100\n",
      "50/50 [==============================] - 0s 818us/step - loss: 1.6490 - accuracy: 0.6518 - val_loss: 0.9211 - val_accuracy: 0.6429\n",
      "Epoch 25/100\n",
      "50/50 [==============================] - 0s 897us/step - loss: 1.6828 - accuracy: 0.6802 - val_loss: 1.2458 - val_accuracy: 0.6429\n",
      "Epoch 26/100\n",
      "50/50 [==============================] - 0s 957us/step - loss: 1.3473 - accuracy: 0.6559 - val_loss: 1.0948 - val_accuracy: 0.6786\n",
      "Epoch 27/100\n",
      "50/50 [==============================] - 0s 1ms/step - loss: 1.2276 - accuracy: 0.7085 - val_loss: 0.9688 - val_accuracy: 0.6429\n",
      "Epoch 28/100\n",
      "50/50 [==============================] - 0s 898us/step - loss: 1.2471 - accuracy: 0.6518 - val_loss: 1.3664 - val_accuracy: 0.6429\n",
      "Epoch 29/100\n",
      "50/50 [==============================] - 0s 878us/step - loss: 1.1651 - accuracy: 0.6599 - val_loss: 1.1097 - val_accuracy: 0.6786\n",
      "Epoch 30/100\n",
      "50/50 [==============================] - 0s 880us/step - loss: 1.1482 - accuracy: 0.6397 - val_loss: 1.2069 - val_accuracy: 0.6786\n",
      "Epoch 31/100\n",
      "50/50 [==============================] - 0s 877us/step - loss: 1.0987 - accuracy: 0.6761 - val_loss: 1.0634 - val_accuracy: 0.6786\n",
      "Epoch 32/100\n",
      "50/50 [==============================] - 0s 1ms/step - loss: 0.8745 - accuracy: 0.7449 - val_loss: 1.0097 - val_accuracy: 0.6786\n",
      "Epoch 33/100\n",
      "50/50 [==============================] - 0s 1ms/step - loss: 0.8266 - accuracy: 0.7166 - val_loss: 0.9784 - val_accuracy: 0.6786\n",
      "Epoch 34/100\n",
      "50/50 [==============================] - 0s 818us/step - loss: 0.9951 - accuracy: 0.6883 - val_loss: 0.8226 - val_accuracy: 0.6429\n",
      "Epoch 35/100\n",
      "50/50 [==============================] - 0s 948us/step - loss: 0.9474 - accuracy: 0.6275 - val_loss: 1.3199 - val_accuracy: 0.6071\n",
      "Epoch 36/100\n",
      "50/50 [==============================] - 0s 898us/step - loss: 0.8840 - accuracy: 0.7247 - val_loss: 0.8376 - val_accuracy: 0.6429\n",
      "Epoch 37/100\n",
      "50/50 [==============================] - 0s 1ms/step - loss: 0.7788 - accuracy: 0.7085 - val_loss: 0.9259 - val_accuracy: 0.6786\n",
      "Epoch 38/100\n",
      "50/50 [==============================] - 0s 957us/step - loss: 0.7589 - accuracy: 0.7247 - val_loss: 0.8222 - val_accuracy: 0.6429\n",
      "Epoch 39/100\n",
      "50/50 [==============================] - 0s 1ms/step - loss: 0.6918 - accuracy: 0.7247 - val_loss: 0.8660 - val_accuracy: 0.6429\n",
      "Epoch 40/100\n",
      "50/50 [==============================] - 0s 937us/step - loss: 0.7245 - accuracy: 0.7004 - val_loss: 0.8243 - val_accuracy: 0.6429\n",
      "Epoch 41/100\n",
      "50/50 [==============================] - 0s 937us/step - loss: 0.7354 - accuracy: 0.7045 - val_loss: 0.7500 - val_accuracy: 0.6429\n",
      "Epoch 42/100\n",
      "50/50 [==============================] - 0s 874us/step - loss: 0.7125 - accuracy: 0.6964 - val_loss: 0.8470 - val_accuracy: 0.6071\n",
      "Epoch 43/100\n",
      "50/50 [==============================] - 0s 892us/step - loss: 0.5592 - accuracy: 0.7490 - val_loss: 0.8315 - val_accuracy: 0.6071\n",
      "Epoch 44/100\n",
      "50/50 [==============================] - 0s 878us/step - loss: 0.6480 - accuracy: 0.7045 - val_loss: 0.8899 - val_accuracy: 0.6429\n",
      "Epoch 45/100\n",
      "50/50 [==============================] - 0s 997us/step - loss: 0.6433 - accuracy: 0.7206 - val_loss: 0.7789 - val_accuracy: 0.6429\n",
      "Epoch 46/100\n",
      "50/50 [==============================] - 0s 1ms/step - loss: 0.6120 - accuracy: 0.7409 - val_loss: 0.7566 - val_accuracy: 0.6429\n",
      "Epoch 47/100\n",
      "50/50 [==============================] - 0s 937us/step - loss: 0.6266 - accuracy: 0.7328 - val_loss: 0.7726 - val_accuracy: 0.6429\n",
      "Epoch 48/100\n",
      "50/50 [==============================] - 0s 1ms/step - loss: 0.6058 - accuracy: 0.7287 - val_loss: 0.9644 - val_accuracy: 0.6071\n",
      "Epoch 49/100\n",
      "50/50 [==============================] - 0s 1ms/step - loss: 0.6726 - accuracy: 0.7287 - val_loss: 0.7336 - val_accuracy: 0.6429\n",
      "Epoch 50/100\n",
      "50/50 [==============================] - 0s 1ms/step - loss: 0.6203 - accuracy: 0.7126 - val_loss: 0.7378 - val_accuracy: 0.6429\n",
      "Epoch 51/100\n",
      "50/50 [==============================] - 0s 878us/step - loss: 0.5785 - accuracy: 0.7611 - val_loss: 0.8275 - val_accuracy: 0.6071\n",
      "Epoch 52/100\n",
      "50/50 [==============================] - 0s 878us/step - loss: 0.5978 - accuracy: 0.7490 - val_loss: 0.7890 - val_accuracy: 0.6429\n",
      "Epoch 53/100\n",
      "50/50 [==============================] - 0s 838us/step - loss: 0.5601 - accuracy: 0.7530 - val_loss: 0.8526 - val_accuracy: 0.6071\n",
      "Epoch 54/100\n"
     ]
    },
    {
     "name": "stdout",
     "output_type": "stream",
     "text": [
      "50/50 [==============================] - 0s 858us/step - loss: 0.6144 - accuracy: 0.7045 - val_loss: 0.7777 - val_accuracy: 0.6429\n",
      "Epoch 55/100\n",
      "50/50 [==============================] - 0s 818us/step - loss: 0.6223 - accuracy: 0.7247 - val_loss: 0.8023 - val_accuracy: 0.6429\n",
      "Epoch 56/100\n",
      "50/50 [==============================] - 0s 798us/step - loss: 0.5327 - accuracy: 0.7814 - val_loss: 0.7883 - val_accuracy: 0.6429\n",
      "Epoch 57/100\n",
      "50/50 [==============================] - 0s 818us/step - loss: 0.5888 - accuracy: 0.7571 - val_loss: 0.7551 - val_accuracy: 0.6429\n",
      "Epoch 58/100\n",
      "50/50 [==============================] - 0s 878us/step - loss: 0.5784 - accuracy: 0.7206 - val_loss: 0.7283 - val_accuracy: 0.6429\n",
      "Epoch 59/100\n",
      "50/50 [==============================] - 0s 977us/step - loss: 0.5703 - accuracy: 0.7409 - val_loss: 0.7632 - val_accuracy: 0.6429\n",
      "Epoch 60/100\n",
      "50/50 [==============================] - 0s 858us/step - loss: 0.6100 - accuracy: 0.7409 - val_loss: 0.7469 - val_accuracy: 0.6429\n",
      "Epoch 61/100\n",
      "50/50 [==============================] - 0s 858us/step - loss: 0.5735 - accuracy: 0.7611 - val_loss: 0.7052 - val_accuracy: 0.6429\n",
      "Epoch 62/100\n",
      "50/50 [==============================] - 0s 917us/step - loss: 0.5747 - accuracy: 0.7368 - val_loss: 0.7660 - val_accuracy: 0.6429\n",
      "Epoch 63/100\n",
      "50/50 [==============================] - 0s 858us/step - loss: 0.5638 - accuracy: 0.7530 - val_loss: 0.7243 - val_accuracy: 0.6429\n",
      "Epoch 64/100\n",
      "50/50 [==============================] - 0s 823us/step - loss: 0.5688 - accuracy: 0.7490 - val_loss: 0.7539 - val_accuracy: 0.6071\n",
      "Epoch 65/100\n",
      "50/50 [==============================] - 0s 878us/step - loss: 0.6000 - accuracy: 0.7206 - val_loss: 0.7466 - val_accuracy: 0.6429\n",
      "Epoch 66/100\n",
      "50/50 [==============================] - 0s 937us/step - loss: 0.5633 - accuracy: 0.7449 - val_loss: 0.7019 - val_accuracy: 0.6429\n",
      "Epoch 67/100\n",
      "50/50 [==============================] - 0s 838us/step - loss: 0.5598 - accuracy: 0.7490 - val_loss: 0.8155 - val_accuracy: 0.6071\n",
      "Epoch 68/100\n",
      "50/50 [==============================] - 0s 977us/step - loss: 0.6117 - accuracy: 0.7045 - val_loss: 0.7279 - val_accuracy: 0.6429\n",
      "Epoch 69/100\n",
      "50/50 [==============================] - 0s 818us/step - loss: 0.5146 - accuracy: 0.7571 - val_loss: 0.7911 - val_accuracy: 0.6071\n",
      "Epoch 70/100\n",
      "50/50 [==============================] - 0s 828us/step - loss: 0.5834 - accuracy: 0.7328 - val_loss: 0.8174 - val_accuracy: 0.6071\n",
      "Epoch 71/100\n",
      "50/50 [==============================] - 0s 878us/step - loss: 0.5796 - accuracy: 0.7328 - val_loss: 0.7364 - val_accuracy: 0.6071\n",
      "Epoch 72/100\n",
      "50/50 [==============================] - 0s 898us/step - loss: 0.5801 - accuracy: 0.7085 - val_loss: 0.7863 - val_accuracy: 0.6071\n",
      "Epoch 73/100\n",
      "50/50 [==============================] - 0s 1ms/step - loss: 0.5386 - accuracy: 0.7328 - val_loss: 0.7777 - val_accuracy: 0.6071\n",
      "Epoch 74/100\n",
      "50/50 [==============================] - 0s 898us/step - loss: 0.5410 - accuracy: 0.7409 - val_loss: 0.7315 - val_accuracy: 0.6071\n",
      "Epoch 75/100\n",
      "50/50 [==============================] - 0s 858us/step - loss: 0.5613 - accuracy: 0.7409 - val_loss: 0.7282 - val_accuracy: 0.6429\n",
      "Epoch 76/100\n",
      "50/50 [==============================] - 0s 852us/step - loss: 0.5643 - accuracy: 0.7449 - val_loss: 0.7281 - val_accuracy: 0.6429\n",
      "Epoch 77/100\n",
      "50/50 [==============================] - 0s 898us/step - loss: 0.5665 - accuracy: 0.7328 - val_loss: 0.7541 - val_accuracy: 0.6429\n",
      "Epoch 78/100\n",
      "50/50 [==============================] - 0s 848us/step - loss: 0.5632 - accuracy: 0.7328 - val_loss: 0.6987 - val_accuracy: 0.6429\n",
      "Epoch 79/100\n",
      "50/50 [==============================] - 0s 794us/step - loss: 0.5535 - accuracy: 0.7166 - val_loss: 0.7169 - val_accuracy: 0.6071\n",
      "Epoch 80/100\n",
      "50/50 [==============================] - 0s 812us/step - loss: 0.5448 - accuracy: 0.7652 - val_loss: 0.6739 - val_accuracy: 0.6429\n",
      "Epoch 81/100\n",
      "50/50 [==============================] - 0s 1ms/step - loss: 0.5640 - accuracy: 0.7368 - val_loss: 0.7023 - val_accuracy: 0.6429\n",
      "Epoch 82/100\n",
      "50/50 [==============================] - 0s 997us/step - loss: 0.5693 - accuracy: 0.7368 - val_loss: 0.7072 - val_accuracy: 0.6429\n",
      "Epoch 83/100\n",
      "50/50 [==============================] - 0s 1ms/step - loss: 0.5905 - accuracy: 0.7247 - val_loss: 0.7078 - val_accuracy: 0.6071\n",
      "Epoch 84/100\n",
      "50/50 [==============================] - 0s 997us/step - loss: 0.5875 - accuracy: 0.7449 - val_loss: 0.6976 - val_accuracy: 0.6429\n",
      "Epoch 85/100\n",
      "50/50 [==============================] - 0s 838us/step - loss: 0.5630 - accuracy: 0.7328 - val_loss: 0.7346 - val_accuracy: 0.6429\n",
      "Epoch 86/100\n",
      "50/50 [==============================] - 0s 868us/step - loss: 0.5319 - accuracy: 0.7490 - val_loss: 0.7534 - val_accuracy: 0.6071\n",
      "Epoch 87/100\n",
      "50/50 [==============================] - 0s 838us/step - loss: 0.5664 - accuracy: 0.7287 - val_loss: 0.7940 - val_accuracy: 0.6071\n",
      "Epoch 88/100\n",
      "50/50 [==============================] - 0s 1ms/step - loss: 0.5166 - accuracy: 0.7652 - val_loss: 0.6735 - val_accuracy: 0.6429\n",
      "Epoch 89/100\n",
      "50/50 [==============================] - 0s 858us/step - loss: 0.5298 - accuracy: 0.7328 - val_loss: 0.7661 - val_accuracy: 0.6071\n",
      "Epoch 90/100\n",
      "50/50 [==============================] - 0s 858us/step - loss: 0.5720 - accuracy: 0.7368 - val_loss: 0.6670 - val_accuracy: 0.6429\n",
      "Epoch 91/100\n",
      "50/50 [==============================] - 0s 878us/step - loss: 0.5542 - accuracy: 0.7368 - val_loss: 0.6860 - val_accuracy: 0.6071\n",
      "Epoch 92/100\n",
      "50/50 [==============================] - 0s 1ms/step - loss: 0.5744 - accuracy: 0.7530 - val_loss: 0.6561 - val_accuracy: 0.6429\n",
      "Epoch 93/100\n",
      "50/50 [==============================] - 0s 937us/step - loss: 0.5786 - accuracy: 0.7166 - val_loss: 0.6955 - val_accuracy: 0.6429\n",
      "Epoch 94/100\n",
      "50/50 [==============================] - 0s 838us/step - loss: 0.5605 - accuracy: 0.7126 - val_loss: 0.7164 - val_accuracy: 0.6429\n",
      "Epoch 95/100\n",
      "50/50 [==============================] - 0s 818us/step - loss: 0.5413 - accuracy: 0.7652 - val_loss: 0.7373 - val_accuracy: 0.6071\n",
      "Epoch 96/100\n",
      "50/50 [==============================] - 0s 838us/step - loss: 0.5477 - accuracy: 0.7530 - val_loss: 0.6695 - val_accuracy: 0.6429\n",
      "Epoch 97/100\n",
      "50/50 [==============================] - 0s 818us/step - loss: 0.5340 - accuracy: 0.7652 - val_loss: 0.7787 - val_accuracy: 0.6071\n",
      "Epoch 98/100\n",
      "50/50 [==============================] - 0s 838us/step - loss: 0.5433 - accuracy: 0.7611 - val_loss: 0.7188 - val_accuracy: 0.6071\n",
      "Epoch 99/100\n",
      "50/50 [==============================] - 0s 838us/step - loss: 0.5753 - accuracy: 0.7449 - val_loss: 0.7129 - val_accuracy: 0.6429\n",
      "Epoch 100/100\n",
      "50/50 [==============================] - 0s 858us/step - loss: 0.5162 - accuracy: 0.7409 - val_loss: 0.6951 - val_accuracy: 0.6429\n"
     ]
    },
    {
     "data": {
      "text/plain": [
       "<tensorflow.python.keras.callbacks.History at 0x19a768c2fc8>"
      ]
     },
     "execution_count": 10,
     "metadata": {},
     "output_type": "execute_result"
    }
   ],
   "source": [
    "batch_size = 5\n",
    "epochs = 100\n",
    "\n",
    "model.compile(loss=\"categorical_crossentropy\", optimizer=keras.optimizers.Adam(amsgrad=True), metrics=[\"accuracy\"])\n",
    "\n",
    "log_dir = \"logs/fit21/\" + datetime.datetime.now().strftime(\"%Y%m%d-%H%M%S\")\n",
    "tensorboard_callback = tf.keras.callbacks.TensorBoard(log_dir=log_dir, histogram_freq=1)\n",
    "\n",
    "model.fit(X_train, y_train, batch_size=batch_size, epochs=epochs, validation_split=0.1 ,callbacks=[tensorboard_callback], verbose=1)\n"
   ]
  },
  {
   "cell_type": "code",
   "execution_count": 11,
   "metadata": {},
   "outputs": [
    {
     "name": "stdout",
     "output_type": "stream",
     "text": [
      "Test loss: 0.4429928660392761\n",
      "Test accuracy: 0.8387096524238586\n"
     ]
    }
   ],
   "source": [
    "score = model.evaluate(X_test, y_test, verbose=0)\n",
    "print(\"Test loss:\", score[0])\n",
    "print(\"Test accuracy:\", score[1])"
   ]
  },
  {
   "cell_type": "code",
   "execution_count": 12,
   "metadata": {},
   "outputs": [],
   "source": [
    "#print(\"AF coefficients (weights) {}\".format(diffact.get_weights()))"
   ]
  },
  {
   "cell_type": "code",
   "execution_count": 16,
   "metadata": {},
   "outputs": [
    {
     "data": {
      "text/plain": [
       "Reusing TensorBoard on port 6041 (pid 10948), started 0:02:07 ago. (Use '!kill 10948' to kill it.)"
      ]
     },
     "metadata": {},
     "output_type": "display_data"
    },
    {
     "data": {
      "text/html": [
       "\n",
       "      <iframe id=\"tensorboard-frame-922b7bd3facba97f\" width=\"100%\" height=\"800\" frameborder=\"0\">\n",
       "      </iframe>\n",
       "      <script>\n",
       "        (function() {\n",
       "          const frame = document.getElementById(\"tensorboard-frame-922b7bd3facba97f\");\n",
       "          const url = new URL(\"/\", window.location);\n",
       "          const port = 6041;\n",
       "          if (port) {\n",
       "            url.port = port;\n",
       "          }\n",
       "          frame.src = url;\n",
       "        })();\n",
       "      </script>\n",
       "    "
      ],
      "text/plain": [
       "<IPython.core.display.HTML object>"
      ]
     },
     "metadata": {},
     "output_type": "display_data"
    }
   ],
   "source": [
    "%tensorboard --logdir logs/fit21 --port=6041"
   ]
  },
  {
   "cell_type": "code",
   "execution_count": 14,
   "metadata": {},
   "outputs": [
    {
     "data": {
      "text/html": [
       "<div>\n",
       "<style scoped>\n",
       "    .dataframe tbody tr th:only-of-type {\n",
       "        vertical-align: middle;\n",
       "    }\n",
       "\n",
       "    .dataframe tbody tr th {\n",
       "        vertical-align: top;\n",
       "    }\n",
       "\n",
       "    .dataframe thead th {\n",
       "        text-align: right;\n",
       "    }\n",
       "</style>\n",
       "<table border=\"1\" class=\"dataframe\">\n",
       "  <thead>\n",
       "    <tr style=\"text-align: right;\">\n",
       "      <th></th>\n",
       "      <th>op_age</th>\n",
       "      <th>op_yr</th>\n",
       "      <th>num_axnodes</th>\n",
       "      <th>class_val</th>\n",
       "    </tr>\n",
       "  </thead>\n",
       "  <tbody>\n",
       "    <tr>\n",
       "      <th>count</th>\n",
       "      <td>306.000000</td>\n",
       "      <td>306.000000</td>\n",
       "      <td>306.000000</td>\n",
       "      <td>306.000000</td>\n",
       "    </tr>\n",
       "    <tr>\n",
       "      <th>mean</th>\n",
       "      <td>52.457516</td>\n",
       "      <td>62.852941</td>\n",
       "      <td>4.026144</td>\n",
       "      <td>0.264706</td>\n",
       "    </tr>\n",
       "    <tr>\n",
       "      <th>std</th>\n",
       "      <td>10.803452</td>\n",
       "      <td>3.249405</td>\n",
       "      <td>7.189654</td>\n",
       "      <td>0.441899</td>\n",
       "    </tr>\n",
       "    <tr>\n",
       "      <th>min</th>\n",
       "      <td>30.000000</td>\n",
       "      <td>58.000000</td>\n",
       "      <td>0.000000</td>\n",
       "      <td>0.000000</td>\n",
       "    </tr>\n",
       "    <tr>\n",
       "      <th>25%</th>\n",
       "      <td>44.000000</td>\n",
       "      <td>60.000000</td>\n",
       "      <td>0.000000</td>\n",
       "      <td>0.000000</td>\n",
       "    </tr>\n",
       "    <tr>\n",
       "      <th>50%</th>\n",
       "      <td>52.000000</td>\n",
       "      <td>63.000000</td>\n",
       "      <td>1.000000</td>\n",
       "      <td>0.000000</td>\n",
       "    </tr>\n",
       "    <tr>\n",
       "      <th>75%</th>\n",
       "      <td>60.750000</td>\n",
       "      <td>65.750000</td>\n",
       "      <td>4.000000</td>\n",
       "      <td>1.000000</td>\n",
       "    </tr>\n",
       "    <tr>\n",
       "      <th>max</th>\n",
       "      <td>83.000000</td>\n",
       "      <td>69.000000</td>\n",
       "      <td>52.000000</td>\n",
       "      <td>1.000000</td>\n",
       "    </tr>\n",
       "  </tbody>\n",
       "</table>\n",
       "</div>"
      ],
      "text/plain": [
       "           op_age       op_yr  num_axnodes   class_val\n",
       "count  306.000000  306.000000   306.000000  306.000000\n",
       "mean    52.457516   62.852941     4.026144    0.264706\n",
       "std     10.803452    3.249405     7.189654    0.441899\n",
       "min     30.000000   58.000000     0.000000    0.000000\n",
       "25%     44.000000   60.000000     0.000000    0.000000\n",
       "50%     52.000000   63.000000     1.000000    0.000000\n",
       "75%     60.750000   65.750000     4.000000    1.000000\n",
       "max     83.000000   69.000000    52.000000    1.000000"
      ]
     },
     "execution_count": 14,
     "metadata": {},
     "output_type": "execute_result"
    }
   ],
   "source": [
    "df.describe()"
   ]
  },
  {
   "cell_type": "code",
   "execution_count": null,
   "metadata": {},
   "outputs": [],
   "source": []
  }
 ],
 "metadata": {
  "kernelspec": {
   "display_name": "Python 3",
   "language": "python",
   "name": "python3"
  },
  "language_info": {
   "codemirror_mode": {
    "name": "ipython",
    "version": 3
   },
   "file_extension": ".py",
   "mimetype": "text/x-python",
   "name": "python",
   "nbconvert_exporter": "python",
   "pygments_lexer": "ipython3",
   "version": "3.7.6"
  }
 },
 "nbformat": 4,
 "nbformat_minor": 4
}
