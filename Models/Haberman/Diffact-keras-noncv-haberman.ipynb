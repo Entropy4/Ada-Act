{
 "cells": [
  {
   "cell_type": "code",
   "execution_count": 1,
   "metadata": {},
   "outputs": [
    {
     "data": {
      "text/html": [
       "<div>\n",
       "<style scoped>\n",
       "    .dataframe tbody tr th:only-of-type {\n",
       "        vertical-align: middle;\n",
       "    }\n",
       "\n",
       "    .dataframe tbody tr th {\n",
       "        vertical-align: top;\n",
       "    }\n",
       "\n",
       "    .dataframe thead th {\n",
       "        text-align: right;\n",
       "    }\n",
       "</style>\n",
       "<table border=\"1\" class=\"dataframe\">\n",
       "  <thead>\n",
       "    <tr style=\"text-align: right;\">\n",
       "      <th></th>\n",
       "      <th>0</th>\n",
       "      <th>1</th>\n",
       "      <th>2</th>\n",
       "      <th>3</th>\n",
       "    </tr>\n",
       "  </thead>\n",
       "  <tbody>\n",
       "    <tr>\n",
       "      <th>0</th>\n",
       "      <td>30</td>\n",
       "      <td>64</td>\n",
       "      <td>1</td>\n",
       "      <td>1</td>\n",
       "    </tr>\n",
       "    <tr>\n",
       "      <th>1</th>\n",
       "      <td>30</td>\n",
       "      <td>62</td>\n",
       "      <td>3</td>\n",
       "      <td>1</td>\n",
       "    </tr>\n",
       "    <tr>\n",
       "      <th>2</th>\n",
       "      <td>30</td>\n",
       "      <td>65</td>\n",
       "      <td>0</td>\n",
       "      <td>1</td>\n",
       "    </tr>\n",
       "    <tr>\n",
       "      <th>3</th>\n",
       "      <td>31</td>\n",
       "      <td>59</td>\n",
       "      <td>2</td>\n",
       "      <td>1</td>\n",
       "    </tr>\n",
       "    <tr>\n",
       "      <th>4</th>\n",
       "      <td>31</td>\n",
       "      <td>65</td>\n",
       "      <td>4</td>\n",
       "      <td>1</td>\n",
       "    </tr>\n",
       "  </tbody>\n",
       "</table>\n",
       "</div>"
      ],
      "text/plain": [
       "    0   1  2  3\n",
       "0  30  64  1  1\n",
       "1  30  62  3  1\n",
       "2  30  65  0  1\n",
       "3  31  59  2  1\n",
       "4  31  65  4  1"
      ]
     },
     "execution_count": 1,
     "metadata": {},
     "output_type": "execute_result"
    }
   ],
   "source": [
    "import numpy as np\n",
    "import pandas as pd\n",
    "import pickle\n",
    "import tensorflow as tf\n",
    "from tensorflow import keras\n",
    "from tensorflow.keras import layers\n",
    "import matplotlib.pyplot as plt\n",
    "from tensorflow.keras.models import Sequential\n",
    "from pandas.api.types import CategoricalDtype\n",
    "import seaborn as sns\n",
    "\n",
    "%load_ext tensorboard\n",
    "import datetime\n",
    "\n",
    "from tensorflow.keras.utils import to_categorical\n",
    "\n",
    "filename = \"../../Datasets/Haberman/haberman.csv\"\n",
    "\n",
    "df = pd.read_csv(filename,encoding = 'utf-8',header = None)\n",
    "df.head()"
   ]
  },
  {
   "cell_type": "code",
   "execution_count": null,
   "metadata": {},
   "outputs": [],
   "source": [
    "df.columns.tolist()\n",
    "df.rename(columns = {0:'op_age',1:'op_yr',2:'num_axnodes',3:'class_val'},inplace = True)\n",
    "df.head(1)\n",
    "df['class_val'].value_counts()"
   ]
  },
  {
   "cell_type": "code",
   "execution_count": null,
   "metadata": {},
   "outputs": [],
   "source": [
    "# Create category types.\n",
    "#class_type = CategoricalDtype(['Type1','Type2','Type3'], ordered=True)\n",
    "\n",
    "# Convert all categorical values to category type.\n",
    "#df.class_val = df.class_val.astype(class_type)"
   ]
  },
  {
   "cell_type": "code",
   "execution_count": null,
   "metadata": {},
   "outputs": [],
   "source": [
    "# Convert categories into integers for each column.\n",
    "df.class_val=df.class_val.replace({1:0, 2:1})"
   ]
  },
  {
   "cell_type": "code",
   "execution_count": null,
   "metadata": {},
   "outputs": [],
   "source": [
    "plt.figure(figsize=(10,6))\n",
    "sns.set(font_scale=1.2)\n",
    "sns.heatmap(df.corr(),annot=True, cmap='rainbow',linewidth=0.5)\n",
    "plt.title('Correlation matrix');"
   ]
  },
  {
   "cell_type": "code",
   "execution_count": null,
   "metadata": {},
   "outputs": [],
   "source": [
    "# Choose attribute columns and class column.\n",
    "X=df[df.columns[:-1]]\n",
    "y=df['class_val']\n",
    "\n",
    "y = np.array(y)\n",
    "y = to_categorical(y)\n",
    "df.head()"
   ]
  },
  {
   "cell_type": "code",
   "execution_count": null,
   "metadata": {},
   "outputs": [],
   "source": [
    "#initializer0 = keras.initializers.RandomUniform(minval = 1, maxval =2)\n",
    "#initializer1 = keras.initializers.RandomUniform(minval = 1, maxval =2)\n",
    "#initializer2 = keras.initializers.RandomUniform(minval = -0.005, maxval =0)\n",
    "\n",
    "#initializer0 = keras.initializers.RandomUniform(minval = 0, maxval =0.005)\n",
    "#initializer1 = keras.initializers.RandomUniform(minval = 0, maxval =0.005)\n",
    "#initializer2 = keras.initializers.RandomUniform(minval = -2, maxval =-1)\n",
    "\n",
    "initializer0 = keras.initializers.RandomUniform(minval = -2, maxval =2)\n",
    "initializer1 = keras.initializers.RandomUniform(minval = -2, maxval =2)\n",
    "initializer2 = keras.initializers.RandomUniform(minval = -0.005, maxval =0)\n",
    "\n",
    "class Diffact(keras.layers.Layer):\n",
    "    def __init__(self):\n",
    "        super(Diffact, self).__init__()\n",
    "        self.k0 = self.add_weight(name='k0', shape = (), initializer=initializer0, trainable=True)\n",
    "        self.k1 = self.add_weight(name='k1', shape = (), initializer=initializer1, trainable=True)\n",
    "        self.k2 = self.add_weight(name='k2', shape = (), initializer=initializer2, trainable=True)\n",
    "        \n",
    "    def call(self, inputs):\n",
    "        return self.k0 + tf.multiply(inputs, self.k1) + tf.multiply(tf.multiply(inputs,inputs), self.k2)\n",
    "\n",
    "from keras import backend as K\n",
    "\n",
    "class Mish(keras.layers.Layer):\n",
    "    '''\n",
    "    Mish Activation Function.\n",
    "    .. math::\n",
    "        mish(x) = x * tanh(softplus(x)) = x * tanh(ln(1 + e^{x}))\n",
    "    Shape:\n",
    "        - Input: Arbitrary. Use the keyword argument `input_shape`\n",
    "        (tuple of integers, does not include the samples axis)\n",
    "        when using this layer as the first layer in a model.\n",
    "        - Output: Same shape as the input.\n",
    "    Examples:\n",
    "        >>> X_input = Input(input_shape)\n",
    "        >>> X = Mish()(X_input)\n",
    "    '''\n",
    "\n",
    "    def __init__(self, **kwargs):\n",
    "        super(Mish, self).__init__(**kwargs)\n",
    "        self.supports_masking = True\n",
    "\n",
    "    def call(self, inputs):\n",
    "        return inputs * K.tanh(K.softplus(inputs))\n",
    "\n",
    "    def get_config(self):\n",
    "        base_config = super(Mish, self).get_config()\n",
    "        return dict(list(base_config.items()) + list(config.items()))\n",
    "\n",
    "    def compute_output_shape(self, input_shape):\n",
    "        return input_shape"
   ]
  },
  {
   "cell_type": "code",
   "execution_count": null,
   "metadata": {},
   "outputs": [],
   "source": [
    "from sklearn.model_selection import StratifiedKFold, cross_val_score, KFold, train_test_split\n",
    "from sklearn.preprocessing import LabelEncoder, StandardScaler, MinMaxScaler\n",
    "# split data into train, test\n",
    "X_train,X_test,y_train,y_test = train_test_split(X,y,test_size=0.1,random_state=69, shuffle=True)\n",
    "#kipping y since value already 1 or 0\n",
    "# encoder = LabelEncoder()\n",
    "# encoder.fit(Y)\n",
    "# encoded_Y = encoder.transform(Y)\n",
    "'''\n",
    "# normalize data\n",
    "scaler = MinMaxScaler()\n",
    "X_train_scaled = scaler.fit_transform(X_train)\n",
    "X_train = pd.DataFrame(X_train_scaled)\n",
    "X_test_scaled = scaler.fit_transform(X_test)\n",
    "X_test = pd.DataFrame(X_test_scaled)\n",
    "'''\n",
    "print (X_train.shape, y_train.shape)\n",
    "print (X_test.shape, y_test.shape)\n",
    "print (df.columns)"
   ]
  },
  {
   "cell_type": "code",
   "execution_count": null,
   "metadata": {},
   "outputs": [],
   "source": [
    "# create model with fully connected layers with dropout regulation\n",
    "model = Sequential()\n",
    "model.add(layers.Dense(10, input_dim=3))\n",
    "diffact=Diffact()\n",
    "model.add(diffact)\n",
    "model.add(layers.Dropout(0.1))\n",
    "model.add(layers.Dense(2, activation = 'softmax'))\n",
    "model.summary()"
   ]
  },
  {
   "cell_type": "code",
   "execution_count": null,
   "metadata": {},
   "outputs": [],
   "source": [
    "batch_size = 5\n",
    "epochs = 100\n",
    "\n",
    "model.compile(loss=\"categorical_crossentropy\", optimizer=\"adam\", metrics=[\"accuracy\"])\n",
    "\n",
    "log_dir = \"survlogs/logs/\" + datetime.datetime.now().strftime(\"%Y%m%d-%H%M%S\")\n",
    "tensorboard_callback = tf.keras.callbacks.TensorBoard(log_dir=log_dir, histogram_freq=1)\n",
    "\n",
    "model.fit(X_train, y_train, batch_size=batch_size, epochs=epochs, validation_split=0.1 ,callbacks=[tensorboard_callback], verbose=1)\n"
   ]
  },
  {
   "cell_type": "code",
   "execution_count": null,
   "metadata": {},
   "outputs": [],
   "source": [
    "score = model.evaluate(X_test, y_test, verbose=0)\n",
    "print(\"Test loss:\", score[0])\n",
    "print(\"Test accuracy:\", score[1])"
   ]
  },
  {
   "cell_type": "code",
   "execution_count": null,
   "metadata": {},
   "outputs": [],
   "source": [
    "print(\"AF coefficients (weights) {}\".format(diffact.get_weights()))"
   ]
  },
  {
   "cell_type": "code",
   "execution_count": 3,
   "metadata": {},
   "outputs": [
    {
     "data": {
      "text/plain": [
       "Reusing TensorBoard on port 6043 (pid 17236), started 0:00:55 ago. (Use '!kill 17236' to kill it.)"
      ]
     },
     "metadata": {},
     "output_type": "display_data"
    },
    {
     "data": {
      "text/html": [
       "\n",
       "      <iframe id=\"tensorboard-frame-ff0dadfe76ebd11f\" width=\"100%\" height=\"800\" frameborder=\"0\">\n",
       "      </iframe>\n",
       "      <script>\n",
       "        (function() {\n",
       "          const frame = document.getElementById(\"tensorboard-frame-ff0dadfe76ebd11f\");\n",
       "          const url = new URL(\"/\", window.location);\n",
       "          const port = 6043;\n",
       "          if (port) {\n",
       "            url.port = port;\n",
       "          }\n",
       "          frame.src = url;\n",
       "        })();\n",
       "      </script>\n",
       "    "
      ],
      "text/plain": [
       "<IPython.core.display.HTML object>"
      ]
     },
     "metadata": {},
     "output_type": "display_data"
    }
   ],
   "source": [
    "%tensorboard --logdir survlogs/logs --port=6043"
   ]
  },
  {
   "cell_type": "code",
   "execution_count": null,
   "metadata": {},
   "outputs": [],
   "source": [
    "df.describe()"
   ]
  },
  {
   "cell_type": "code",
   "execution_count": null,
   "metadata": {},
   "outputs": [],
   "source": []
  }
 ],
 "metadata": {
  "kernelspec": {
   "display_name": "Python 3",
   "language": "python",
   "name": "python3"
  },
  "language_info": {
   "codemirror_mode": {
    "name": "ipython",
    "version": 3
   },
   "file_extension": ".py",
   "mimetype": "text/x-python",
   "name": "python",
   "nbconvert_exporter": "python",
   "pygments_lexer": "ipython3",
   "version": "3.7.6"
  }
 },
 "nbformat": 4,
 "nbformat_minor": 4
}
