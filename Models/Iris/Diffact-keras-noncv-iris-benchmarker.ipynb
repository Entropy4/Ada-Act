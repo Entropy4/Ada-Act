{
 "cells": [
  {
   "cell_type": "code",
   "execution_count": 1,
   "metadata": {},
   "outputs": [],
   "source": [
    "import numpy as np\n",
    "import pandas as pd\n",
    "import pickle\n",
    "import tensorflow as tf\n",
    "from tensorflow import keras\n",
    "from tensorflow.keras import layers\n",
    "import matplotlib.pyplot as plt\n",
    "from tensorflow.keras.models import Sequential\n",
    "\n",
    "%load_ext tensorboard\n",
    "import datetime\n",
    "\n",
    "\n",
    "\n",
    "from sklearn.datasets import load_iris\n",
    "from sklearn.model_selection import train_test_split\n",
    "from sklearn.preprocessing import OneHotEncoder, StandardScaler\n",
    "\n",
    "iris = load_iris()\n",
    "X = iris['data']\n",
    "y = iris['target']\n",
    "names = iris['target_names']\n",
    "feature_names = iris['feature_names']\n",
    "\n",
    "# One hot encoding\n",
    "enc = OneHotEncoder()\n",
    "Y = enc.fit_transform(y[:, np.newaxis]).toarray()\n",
    "\n",
    "# Scale data to have mean 0 and variance 1 \n",
    "# which is importance for convergence of the neural network\n",
    "scaler = StandardScaler()\n",
    "X_scaled = scaler.fit_transform(X)\n",
    "\n",
    "# Split the data set into training and testing\n",
    "X_train, X_test, Y_train, Y_test = train_test_split(\n",
    "    X_scaled, Y, test_size=0.2, random_state=3)\n",
    "\n",
    "n_features = X.shape[1]\n",
    "n_classes = Y.shape[1]"
   ]
  },
  {
   "cell_type": "code",
   "execution_count": 2,
   "metadata": {},
   "outputs": [
    {
     "data": {
      "image/png": "[encoded data removed]",
      "text/plain": [
       "<Figure size 1152x432 with 2 Axes>"
      ]
     },
     "metadata": {
      "needs_background": "light"
     },
     "output_type": "display_data"
    }
   ],
   "source": [
    "# Visualize the data sets\n",
    "plt.figure(figsize=(16, 6))\n",
    "plt.subplot(1, 2, 1)\n",
    "for target, target_name in enumerate(names):\n",
    "    X_plot = X[y == target]\n",
    "    plt.plot(X_plot[:, 0], X_plot[:, 1], linestyle='none', marker='o', label=target_name)\n",
    "plt.xlabel(feature_names[0])\n",
    "plt.ylabel(feature_names[1])\n",
    "plt.axis('equal')\n",
    "plt.legend();\n",
    "\n",
    "plt.subplot(1, 2, 2)\n",
    "for target, target_name in enumerate(names):\n",
    "    X_plot = X[y == target]\n",
    "    plt.plot(X_plot[:, 2], X_plot[:, 3], linestyle='none', marker='o', label=target_name)\n",
    "plt.xlabel(feature_names[2])\n",
    "plt.ylabel(feature_names[3])\n",
    "plt.axis('equal')\n",
    "plt.legend();"
   ]
  },
  {
   "cell_type": "code",
   "execution_count": 3,
   "metadata": {},
   "outputs": [],
   "source": [
    "initializer0 = keras.initializers.RandomUniform(minval = -2, maxval =2)\n",
    "initializer1 = keras.initializers.RandomUniform(minval = -2, maxval =2)\n",
    "initializer2 = keras.initializers.RandomUniform(minval = -2, maxval =2)\n",
    "\n",
    "class Diffact(keras.layers.Layer):\n",
    "    def __init__(self):\n",
    "        super(Diffact, self).__init__()\n",
    "        self.k0 = self.add_weight(name='k0', shape = (), initializer=initializer0, trainable=True)\n",
    "        self.k1 = self.add_weight(name='k1', shape = (), initializer=initializer1, trainable=True)\n",
    "        self.k2 = self.add_weight(name='k2', shape = (), initializer=initializer2, trainable=True)\n",
    "        \n",
    "    def call(self, inputs):\n",
    "        return self.k0 + tf.multiply(inputs, self.k1) + tf.multiply(tf.multiply(inputs,inputs), self.k2)"
   ]
  },
  {
   "cell_type": "code",
   "execution_count": 4,
   "metadata": {},
   "outputs": [
    {
     "name": "stderr",
     "output_type": "stream",
     "text": [
      "Using TensorFlow backend.\n"
     ]
    }
   ],
   "source": [
    "from keras import backend as K\n",
    "\n",
    "class Mish(keras.layers.Layer):\n",
    "    '''\n",
    "    Mish Activation Function.\n",
    "    .. math::\n",
    "        mish(x) = x * tanh(softplus(x)) = x * tanh(ln(1 + e^{x}))\n",
    "    Shape:\n",
    "        - Input: Arbitrary. Use the keyword argument `input_shape`\n",
    "        (tuple of integers, does not include the samples axis)\n",
    "        when using this layer as the first layer in a model.\n",
    "        - Output: Same shape as the input.\n",
    "    Examples:\n",
    "        >>> X_input = Input(input_shape)\n",
    "        >>> X = Mish()(X_input)\n",
    "    '''\n",
    "\n",
    "    def __init__(self, **kwargs):\n",
    "        super(Mish, self).__init__(**kwargs)\n",
    "        self.supports_masking = True\n",
    "\n",
    "    def call(self, inputs):\n",
    "        return inputs * K.tanh(K.softplus(inputs))\n",
    "\n",
    "    def get_config(self):\n",
    "        base_config = super(Mish, self).get_config()\n",
    "        return dict(list(base_config.items()) + list(config.items()))\n",
    "\n",
    "    def compute_output_shape(self, input_shape):\n",
    "        return input_shape"
   ]
  },
  {
   "cell_type": "code",
   "execution_count": 5,
   "metadata": {},
   "outputs": [
    {
     "name": "stdout",
     "output_type": "stream",
     "text": [
      "Model: \"sequential\"\n",
      "_________________________________________________________________\n",
      "Layer (type)                 Output Shape              Param #   \n",
      "=================================================================\n",
      "dense (Dense)                (None, 25)                125       \n",
      "_________________________________________________________________\n",
      "dropout (Dropout)            (None, 25)                0         \n",
      "_________________________________________________________________\n",
      "dense_1 (Dense)              (None, 3)                 78        \n",
      "=================================================================\n",
      "Total params: 203\n",
      "Trainable params: 203\n",
      "Non-trainable params: 0\n",
      "_________________________________________________________________\n"
     ]
    }
   ],
   "source": [
    "# create model with fully connected layers with dropout regulation\n",
    "model = Sequential()\n",
    "model.add(layers.Dense(25, input_dim=n_features, activation='relu'))\n",
    "#diffact = Diffact()\n",
    "#model.add(Mish())\n",
    "model.add(layers.Dropout(0.1))\n",
    "model.add(layers.Dense(n_classes, activation='softmax'))\n",
    "model.summary()"
   ]
  },
  {
   "cell_type": "code",
   "execution_count": 6,
   "metadata": {},
   "outputs": [
    {
     "name": "stdout",
     "output_type": "stream",
     "text": [
      "Epoch 1/100\n",
      " 1/20 [>.............................] - ETA: 0s - loss: 1.1346 - accuracy: 0.2000WARNING:tensorflow:From C:\\Users\\shamb\\anaconda3\\lib\\site-packages\\tensorflow\\python\\ops\\summary_ops_v2.py:1277: stop (from tensorflow.python.eager.profiler) is deprecated and will be removed after 2020-07-01.\n",
      "Instructions for updating:\n",
      "use `tf.profiler.experimental.stop` instead.\n",
      "WARNING:tensorflow:Callbacks method `on_train_batch_end` is slow compared to the batch time (batch time: 0.0010s vs `on_train_batch_end` time: 0.0249s). Check your callbacks.\n",
      "20/20 [==============================] - 0s 10ms/step - loss: 1.0169 - accuracy: 0.4479 - val_loss: 0.8617 - val_accuracy: 0.7500\n",
      "Epoch 2/100\n",
      "20/20 [==============================] - 0s 1ms/step - loss: 0.8543 - accuracy: 0.5938 - val_loss: 0.7573 - val_accuracy: 0.8333\n",
      "Epoch 3/100\n",
      "20/20 [==============================] - 0s 2ms/step - loss: 0.7675 - accuracy: 0.6458 - val_loss: 0.6831 - val_accuracy: 0.8750\n",
      "Epoch 4/100\n",
      "20/20 [==============================] - 0s 1ms/step - loss: 0.6548 - accuracy: 0.7396 - val_loss: 0.6182 - val_accuracy: 0.8750\n",
      "Epoch 5/100\n",
      "20/20 [==============================] - 0s 2ms/step - loss: 0.6129 - accuracy: 0.7708 - val_loss: 0.5680 - val_accuracy: 0.9167\n",
      "Epoch 6/100\n",
      "20/20 [==============================] - 0s 2ms/step - loss: 0.5902 - accuracy: 0.7500 - val_loss: 0.5252 - val_accuracy: 0.8750\n",
      "Epoch 7/100\n",
      "20/20 [==============================] - 0s 2ms/step - loss: 0.5324 - accuracy: 0.7812 - val_loss: 0.4875 - val_accuracy: 0.9167\n",
      "Epoch 8/100\n",
      "20/20 [==============================] - 0s 2ms/step - loss: 0.4853 - accuracy: 0.7917 - val_loss: 0.4523 - val_accuracy: 0.9167\n",
      "Epoch 9/100\n",
      "20/20 [==============================] - 0s 2ms/step - loss: 0.4694 - accuracy: 0.8021 - val_loss: 0.4234 - val_accuracy: 0.9167\n",
      "Epoch 10/100\n",
      "20/20 [==============================] - 0s 1ms/step - loss: 0.4416 - accuracy: 0.7812 - val_loss: 0.4007 - val_accuracy: 0.9167\n",
      "Epoch 11/100\n",
      "20/20 [==============================] - 0s 1ms/step - loss: 0.4258 - accuracy: 0.8229 - val_loss: 0.3774 - val_accuracy: 0.9167\n",
      "Epoch 12/100\n",
      "20/20 [==============================] - 0s 1ms/step - loss: 0.4141 - accuracy: 0.7812 - val_loss: 0.3580 - val_accuracy: 0.8750\n",
      "Epoch 13/100\n",
      "20/20 [==============================] - 0s 2ms/step - loss: 0.3950 - accuracy: 0.8125 - val_loss: 0.3451 - val_accuracy: 0.8750\n",
      "Epoch 14/100\n",
      "20/20 [==============================] - 0s 2ms/step - loss: 0.3653 - accuracy: 0.8438 - val_loss: 0.3306 - val_accuracy: 0.8750\n",
      "Epoch 15/100\n",
      "20/20 [==============================] - 0s 2ms/step - loss: 0.3671 - accuracy: 0.8333 - val_loss: 0.3284 - val_accuracy: 0.9167\n",
      "Epoch 16/100\n",
      "20/20 [==============================] - 0s 2ms/step - loss: 0.3466 - accuracy: 0.8333 - val_loss: 0.3241 - val_accuracy: 0.9167\n",
      "Epoch 17/100\n",
      "20/20 [==============================] - 0s 2ms/step - loss: 0.3569 - accuracy: 0.8125 - val_loss: 0.3147 - val_accuracy: 0.9167\n",
      "Epoch 18/100\n",
      "20/20 [==============================] - 0s 1ms/step - loss: 0.3342 - accuracy: 0.8542 - val_loss: 0.3158 - val_accuracy: 0.9167\n",
      "Epoch 19/100\n",
      "20/20 [==============================] - 0s 2ms/step - loss: 0.2999 - accuracy: 0.8854 - val_loss: 0.3177 - val_accuracy: 0.9167\n",
      "Epoch 20/100\n",
      "20/20 [==============================] - 0s 1ms/step - loss: 0.2920 - accuracy: 0.9167 - val_loss: 0.3202 - val_accuracy: 0.9167\n",
      "Epoch 21/100\n",
      "20/20 [==============================] - 0s 1ms/step - loss: 0.2986 - accuracy: 0.9062 - val_loss: 0.3104 - val_accuracy: 0.9167\n",
      "Epoch 22/100\n",
      "20/20 [==============================] - 0s 1ms/step - loss: 0.2884 - accuracy: 0.8646 - val_loss: 0.3078 - val_accuracy: 0.9167\n",
      "Epoch 23/100\n",
      "20/20 [==============================] - 0s 2ms/step - loss: 0.2834 - accuracy: 0.8958 - val_loss: 0.3000 - val_accuracy: 0.9167\n",
      "Epoch 24/100\n",
      "20/20 [==============================] - 0s 2ms/step - loss: 0.2571 - accuracy: 0.8854 - val_loss: 0.2934 - val_accuracy: 0.9167\n",
      "Epoch 25/100\n",
      "20/20 [==============================] - 0s 1ms/step - loss: 0.2606 - accuracy: 0.8750 - val_loss: 0.2958 - val_accuracy: 0.9167\n",
      "Epoch 26/100\n",
      "20/20 [==============================] - 0s 2ms/step - loss: 0.2484 - accuracy: 0.9062 - val_loss: 0.2992 - val_accuracy: 0.9167\n",
      "Epoch 27/100\n",
      "20/20 [==============================] - 0s 1ms/step - loss: 0.2555 - accuracy: 0.8854 - val_loss: 0.3000 - val_accuracy: 0.9167\n",
      "Epoch 28/100\n",
      "20/20 [==============================] - 0s 2ms/step - loss: 0.2516 - accuracy: 0.8854 - val_loss: 0.2926 - val_accuracy: 0.9167\n",
      "Epoch 29/100\n",
      "20/20 [==============================] - 0s 2ms/step - loss: 0.2485 - accuracy: 0.9062 - val_loss: 0.2884 - val_accuracy: 0.9167\n",
      "Epoch 30/100\n",
      "20/20 [==============================] - 0s 1ms/step - loss: 0.2244 - accuracy: 0.9271 - val_loss: 0.2887 - val_accuracy: 0.9167\n",
      "Epoch 31/100\n",
      "20/20 [==============================] - 0s 2ms/step - loss: 0.2452 - accuracy: 0.8854 - val_loss: 0.2924 - val_accuracy: 0.9167\n",
      "Epoch 32/100\n",
      "20/20 [==============================] - 0s 2ms/step - loss: 0.2249 - accuracy: 0.9167 - val_loss: 0.2827 - val_accuracy: 0.9167\n",
      "Epoch 33/100\n",
      "20/20 [==============================] - 0s 2ms/step - loss: 0.2278 - accuracy: 0.8958 - val_loss: 0.2754 - val_accuracy: 0.9167\n",
      "Epoch 34/100\n",
      "20/20 [==============================] - 0s 2ms/step - loss: 0.2080 - accuracy: 0.9167 - val_loss: 0.2872 - val_accuracy: 0.9167\n",
      "Epoch 35/100\n",
      "20/20 [==============================] - 0s 2ms/step - loss: 0.2240 - accuracy: 0.8854 - val_loss: 0.2832 - val_accuracy: 0.9167\n",
      "Epoch 36/100\n",
      "20/20 [==============================] - 0s 1ms/step - loss: 0.1992 - accuracy: 0.9375 - val_loss: 0.2841 - val_accuracy: 0.9167\n",
      "Epoch 37/100\n",
      "20/20 [==============================] - 0s 1ms/step - loss: 0.1902 - accuracy: 0.9271 - val_loss: 0.2793 - val_accuracy: 0.9167\n",
      "Epoch 38/100\n",
      "20/20 [==============================] - 0s 1ms/step - loss: 0.1879 - accuracy: 0.9271 - val_loss: 0.2764 - val_accuracy: 0.9167\n",
      "Epoch 39/100\n",
      "20/20 [==============================] - 0s 1ms/step - loss: 0.2026 - accuracy: 0.9167 - val_loss: 0.2734 - val_accuracy: 0.9167\n",
      "Epoch 40/100\n",
      "20/20 [==============================] - 0s 2ms/step - loss: 0.1842 - accuracy: 0.9375 - val_loss: 0.2722 - val_accuracy: 0.9167\n",
      "Epoch 41/100\n",
      "20/20 [==============================] - 0s 2ms/step - loss: 0.1966 - accuracy: 0.9271 - val_loss: 0.2709 - val_accuracy: 0.9167\n",
      "Epoch 42/100\n",
      "20/20 [==============================] - 0s 2ms/step - loss: 0.1945 - accuracy: 0.9062 - val_loss: 0.2689 - val_accuracy: 0.9167\n",
      "Epoch 43/100\n",
      "20/20 [==============================] - 0s 2ms/step - loss: 0.1880 - accuracy: 0.9271 - val_loss: 0.2734 - val_accuracy: 0.9167\n",
      "Epoch 44/100\n",
      "20/20 [==============================] - 0s 2ms/step - loss: 0.1465 - accuracy: 0.9479 - val_loss: 0.2745 - val_accuracy: 0.9167\n",
      "Epoch 45/100\n",
      "20/20 [==============================] - 0s 1ms/step - loss: 0.1703 - accuracy: 0.9375 - val_loss: 0.2696 - val_accuracy: 0.9167\n",
      "Epoch 46/100\n",
      "20/20 [==============================] - 0s 2ms/step - loss: 0.1881 - accuracy: 0.9479 - val_loss: 0.2729 - val_accuracy: 0.9167\n",
      "Epoch 47/100\n",
      "20/20 [==============================] - 0s 2ms/step - loss: 0.1554 - accuracy: 0.9583 - val_loss: 0.2659 - val_accuracy: 0.9167\n",
      "Epoch 48/100\n",
      "20/20 [==============================] - 0s 2ms/step - loss: 0.1501 - accuracy: 0.9688 - val_loss: 0.2619 - val_accuracy: 0.9167\n",
      "Epoch 49/100\n",
      "20/20 [==============================] - 0s 1ms/step - loss: 0.1581 - accuracy: 0.9375 - val_loss: 0.2592 - val_accuracy: 0.9167\n",
      "Epoch 50/100\n",
      "20/20 [==============================] - 0s 2ms/step - loss: 0.1517 - accuracy: 0.9375 - val_loss: 0.2706 - val_accuracy: 0.9167\n",
      "Epoch 51/100\n",
      "20/20 [==============================] - 0s 1ms/step - loss: 0.1572 - accuracy: 0.9583 - val_loss: 0.2654 - val_accuracy: 0.9167\n",
      "Epoch 52/100\n",
      "20/20 [==============================] - 0s 1ms/step - loss: 0.1452 - accuracy: 0.9688 - val_loss: 0.2633 - val_accuracy: 0.9167\n",
      "Epoch 53/100\n",
      "20/20 [==============================] - 0s 1ms/step - loss: 0.1426 - accuracy: 0.9583 - val_loss: 0.2605 - val_accuracy: 0.9167\n",
      "Epoch 54/100\n",
      "20/20 [==============================] - 0s 2ms/step - loss: 0.1491 - accuracy: 0.9583 - val_loss: 0.2580 - val_accuracy: 0.9167\n"
     ]
    },
    {
     "name": "stdout",
     "output_type": "stream",
     "text": [
      "Epoch 55/100\n",
      "20/20 [==============================] - 0s 2ms/step - loss: 0.1378 - accuracy: 0.9688 - val_loss: 0.2518 - val_accuracy: 0.9167\n",
      "Epoch 56/100\n",
      "20/20 [==============================] - 0s 2ms/step - loss: 0.1348 - accuracy: 0.9583 - val_loss: 0.2456 - val_accuracy: 0.9167\n",
      "Epoch 57/100\n",
      "20/20 [==============================] - 0s 2ms/step - loss: 0.1255 - accuracy: 0.9792 - val_loss: 0.2363 - val_accuracy: 0.9167\n",
      "Epoch 58/100\n",
      "20/20 [==============================] - 0s 2ms/step - loss: 0.1427 - accuracy: 0.9479 - val_loss: 0.2311 - val_accuracy: 0.9167\n",
      "Epoch 59/100\n",
      "20/20 [==============================] - 0s 2ms/step - loss: 0.1363 - accuracy: 0.9688 - val_loss: 0.2260 - val_accuracy: 0.9167\n",
      "Epoch 60/100\n",
      "20/20 [==============================] - 0s 1ms/step - loss: 0.1205 - accuracy: 0.9479 - val_loss: 0.2180 - val_accuracy: 0.9167\n",
      "Epoch 61/100\n",
      "20/20 [==============================] - 0s 2ms/step - loss: 0.1206 - accuracy: 0.9583 - val_loss: 0.2191 - val_accuracy: 0.9167\n",
      "Epoch 62/100\n",
      "20/20 [==============================] - 0s 2ms/step - loss: 0.1048 - accuracy: 0.9688 - val_loss: 0.2346 - val_accuracy: 0.9167\n",
      "Epoch 63/100\n",
      "20/20 [==============================] - 0s 2ms/step - loss: 0.1146 - accuracy: 0.9792 - val_loss: 0.2438 - val_accuracy: 0.9167\n",
      "Epoch 64/100\n",
      "20/20 [==============================] - 0s 2ms/step - loss: 0.1060 - accuracy: 0.9688 - val_loss: 0.2282 - val_accuracy: 0.9167\n",
      "Epoch 65/100\n",
      "20/20 [==============================] - 0s 2ms/step - loss: 0.1090 - accuracy: 0.9688 - val_loss: 0.2338 - val_accuracy: 0.9167\n",
      "Epoch 66/100\n",
      "20/20 [==============================] - 0s 2ms/step - loss: 0.1029 - accuracy: 0.9688 - val_loss: 0.2287 - val_accuracy: 0.9167\n",
      "Epoch 67/100\n",
      "20/20 [==============================] - 0s 2ms/step - loss: 0.1127 - accuracy: 0.9583 - val_loss: 0.2187 - val_accuracy: 0.9167\n",
      "Epoch 68/100\n",
      "20/20 [==============================] - 0s 2ms/step - loss: 0.1271 - accuracy: 0.9479 - val_loss: 0.2189 - val_accuracy: 0.9167\n",
      "Epoch 69/100\n",
      "20/20 [==============================] - 0s 2ms/step - loss: 0.1006 - accuracy: 0.9792 - val_loss: 0.2292 - val_accuracy: 0.9167\n",
      "Epoch 70/100\n",
      "20/20 [==============================] - 0s 2ms/step - loss: 0.0947 - accuracy: 0.9583 - val_loss: 0.2363 - val_accuracy: 0.9167\n",
      "Epoch 71/100\n",
      "20/20 [==============================] - 0s 2ms/step - loss: 0.1072 - accuracy: 0.9688 - val_loss: 0.2336 - val_accuracy: 0.9167\n",
      "Epoch 72/100\n",
      "20/20 [==============================] - 0s 2ms/step - loss: 0.0966 - accuracy: 0.9792 - val_loss: 0.2300 - val_accuracy: 0.9167\n",
      "Epoch 73/100\n",
      "20/20 [==============================] - 0s 2ms/step - loss: 0.1062 - accuracy: 0.9688 - val_loss: 0.2247 - val_accuracy: 0.9167\n",
      "Epoch 74/100\n",
      "20/20 [==============================] - 0s 2ms/step - loss: 0.0949 - accuracy: 0.9688 - val_loss: 0.2183 - val_accuracy: 0.9167\n",
      "Epoch 75/100\n",
      "20/20 [==============================] - 0s 2ms/step - loss: 0.1010 - accuracy: 0.9688 - val_loss: 0.2210 - val_accuracy: 0.9167\n",
      "Epoch 76/100\n",
      "20/20 [==============================] - 0s 2ms/step - loss: 0.1039 - accuracy: 0.9688 - val_loss: 0.2259 - val_accuracy: 0.9167\n",
      "Epoch 77/100\n",
      "20/20 [==============================] - 0s 2ms/step - loss: 0.0846 - accuracy: 0.9688 - val_loss: 0.2378 - val_accuracy: 0.9167\n",
      "Epoch 78/100\n",
      "20/20 [==============================] - 0s 2ms/step - loss: 0.1046 - accuracy: 0.9688 - val_loss: 0.2247 - val_accuracy: 0.9167\n",
      "Epoch 79/100\n",
      "20/20 [==============================] - 0s 2ms/step - loss: 0.0832 - accuracy: 0.9792 - val_loss: 0.2153 - val_accuracy: 0.9167\n",
      "Epoch 80/100\n",
      "20/20 [==============================] - 0s 2ms/step - loss: 0.0925 - accuracy: 0.9688 - val_loss: 0.1999 - val_accuracy: 0.9167\n",
      "Epoch 81/100\n",
      "20/20 [==============================] - 0s 2ms/step - loss: 0.0871 - accuracy: 0.9688 - val_loss: 0.2016 - val_accuracy: 0.9167\n",
      "Epoch 82/100\n",
      "20/20 [==============================] - 0s 2ms/step - loss: 0.0865 - accuracy: 0.9688 - val_loss: 0.1913 - val_accuracy: 0.9167\n",
      "Epoch 83/100\n",
      "20/20 [==============================] - 0s 2ms/step - loss: 0.0786 - accuracy: 0.9688 - val_loss: 0.1863 - val_accuracy: 0.9167\n",
      "Epoch 84/100\n",
      "20/20 [==============================] - 0s 2ms/step - loss: 0.0886 - accuracy: 0.9688 - val_loss: 0.1975 - val_accuracy: 0.9167\n",
      "Epoch 85/100\n",
      "20/20 [==============================] - 0s 1ms/step - loss: 0.0792 - accuracy: 0.9792 - val_loss: 0.1928 - val_accuracy: 0.9167\n",
      "Epoch 86/100\n",
      "20/20 [==============================] - 0s 1ms/step - loss: 0.0718 - accuracy: 0.9792 - val_loss: 0.1928 - val_accuracy: 0.9167\n",
      "Epoch 87/100\n",
      "20/20 [==============================] - 0s 1ms/step - loss: 0.0787 - accuracy: 0.9688 - val_loss: 0.1905 - val_accuracy: 0.9167\n",
      "Epoch 88/100\n",
      "20/20 [==============================] - 0s 1ms/step - loss: 0.0901 - accuracy: 0.9583 - val_loss: 0.1964 - val_accuracy: 0.9167\n",
      "Epoch 89/100\n",
      "20/20 [==============================] - 0s 2ms/step - loss: 0.0700 - accuracy: 0.9792 - val_loss: 0.1878 - val_accuracy: 0.9167\n",
      "Epoch 90/100\n",
      "20/20 [==============================] - 0s 2ms/step - loss: 0.0842 - accuracy: 0.9688 - val_loss: 0.1886 - val_accuracy: 0.9167\n",
      "Epoch 91/100\n",
      "20/20 [==============================] - 0s 1ms/step - loss: 0.0714 - accuracy: 0.9896 - val_loss: 0.2016 - val_accuracy: 0.9167\n",
      "Epoch 92/100\n",
      "20/20 [==============================] - 0s 1ms/step - loss: 0.0705 - accuracy: 0.9792 - val_loss: 0.1993 - val_accuracy: 0.9167\n",
      "Epoch 93/100\n",
      "20/20 [==============================] - 0s 1ms/step - loss: 0.0744 - accuracy: 0.9688 - val_loss: 0.1951 - val_accuracy: 0.9167\n",
      "Epoch 94/100\n",
      "20/20 [==============================] - 0s 2ms/step - loss: 0.0813 - accuracy: 0.9688 - val_loss: 0.1982 - val_accuracy: 0.9167\n",
      "Epoch 95/100\n",
      "20/20 [==============================] - 0s 1ms/step - loss: 0.0656 - accuracy: 0.9792 - val_loss: 0.1883 - val_accuracy: 0.9167\n",
      "Epoch 96/100\n",
      "20/20 [==============================] - 0s 2ms/step - loss: 0.0748 - accuracy: 0.9792 - val_loss: 0.1776 - val_accuracy: 0.9167\n",
      "Epoch 97/100\n",
      "20/20 [==============================] - 0s 2ms/step - loss: 0.0786 - accuracy: 0.9792 - val_loss: 0.1732 - val_accuracy: 0.9167\n",
      "Epoch 98/100\n",
      "20/20 [==============================] - 0s 1ms/step - loss: 0.0741 - accuracy: 0.9792 - val_loss: 0.1848 - val_accuracy: 0.9167\n",
      "Epoch 99/100\n",
      "20/20 [==============================] - 0s 1ms/step - loss: 0.0757 - accuracy: 0.9792 - val_loss: 0.1860 - val_accuracy: 0.9167\n",
      "Epoch 100/100\n",
      "20/20 [==============================] - 0s 1ms/step - loss: 0.0764 - accuracy: 0.9688 - val_loss: 0.1927 - val_accuracy: 0.9167\n"
     ]
    },
    {
     "data": {
      "text/plain": [
       "<tensorflow.python.keras.callbacks.History at 0x1ec619b3048>"
      ]
     },
     "execution_count": 6,
     "metadata": {},
     "output_type": "execute_result"
    }
   ],
   "source": [
    "batch_size = 5\n",
    "epochs = 100\n",
    "\n",
    "model.compile(loss=\"categorical_crossentropy\", optimizer=\"RMSprop\", metrics=[\"accuracy\"])\n",
    "\n",
    "log_dir = \"logs/fit11/\" + datetime.datetime.now().strftime(\"%Y%m%d-%H%M%S\")\n",
    "tensorboard_callback = tf.keras.callbacks.TensorBoard(log_dir=log_dir, histogram_freq=1)\n",
    "\n",
    "model.fit(X_train, Y_train, batch_size=batch_size, epochs=epochs, validation_split=0.2 ,callbacks=[tensorboard_callback], verbose=1)\n"
   ]
  },
  {
   "cell_type": "code",
   "execution_count": 7,
   "metadata": {},
   "outputs": [
    {
     "name": "stdout",
     "output_type": "stream",
     "text": [
      "Test loss: 0.0863376185297966\n",
      "Test accuracy: 0.9666666388511658\n"
     ]
    }
   ],
   "source": [
    "score = model.evaluate(X_test, Y_test, verbose=0)\n",
    "print(\"Test loss:\", score[0])\n",
    "print(\"Test accuracy:\", score[1])"
   ]
  },
  {
   "cell_type": "code",
   "execution_count": 8,
   "metadata": {},
   "outputs": [],
   "source": [
    "#print(\"AF coefficients (weights) {}\".format(diffact.get_weights()))"
   ]
  },
  {
   "cell_type": "code",
   "execution_count": 12,
   "metadata": {},
   "outputs": [
    {
     "data": {
      "text/plain": [
       "Reusing TensorBoard on port 6038 (pid 6440), started 0:00:57 ago. (Use '!kill 6440' to kill it.)"
      ]
     },
     "metadata": {},
     "output_type": "display_data"
    },
    {
     "data": {
      "text/html": [
       "\n",
       "      <iframe id=\"tensorboard-frame-ba447f977d72a84c\" width=\"100%\" height=\"800\" frameborder=\"0\">\n",
       "      </iframe>\n",
       "      <script>\n",
       "        (function() {\n",
       "          const frame = document.getElementById(\"tensorboard-frame-ba447f977d72a84c\");\n",
       "          const url = new URL(\"/\", window.location);\n",
       "          const port = 6038;\n",
       "          if (port) {\n",
       "            url.port = port;\n",
       "          }\n",
       "          frame.src = url;\n",
       "        })();\n",
       "      </script>\n",
       "    "
      ],
      "text/plain": [
       "<IPython.core.display.HTML object>"
      ]
     },
     "metadata": {},
     "output_type": "display_data"
    }
   ],
   "source": [
    "%tensorboard --logdir logs/fit11 --port=6038"
   ]
  },
  {
   "cell_type": "code",
   "execution_count": null,
   "metadata": {},
   "outputs": [],
   "source": []
  },
  {
   "cell_type": "code",
   "execution_count": null,
   "metadata": {},
   "outputs": [],
   "source": []
  }
 ],
 "metadata": {
  "kernelspec": {
   "display_name": "Python 3",
   "language": "python",
   "name": "python3"
  },
  "language_info": {
   "codemirror_mode": {
    "name": "ipython",
    "version": 3
   },
   "file_extension": ".py",
   "mimetype": "text/x-python",
   "name": "python",
   "nbconvert_exporter": "python",
   "pygments_lexer": "ipython3",
   "version": "3.7.6"
  }
 },
 "nbformat": 4,
 "nbformat_minor": 4
}
