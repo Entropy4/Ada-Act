{
 "cells": [
  {
   "cell_type": "markdown",
   "metadata": {},
   "source": [
    "# Ada-DiffAct Model using Keras"
   ]
  },
  {
   "cell_type": "markdown",
   "metadata": {},
   "source": [
    "## libraries to be used"
   ]
  },
  {
   "cell_type": "code",
   "execution_count": 1,
   "metadata": {},
   "outputs": [],
   "source": [
    "import numpy as np\n",
    "import tensorflow as tf\n",
    "from tensorflow import keras\n",
    "from tensorflow.keras import layers\n",
    "\n",
    "%load_ext tensorboard\n",
    "import datetime\n",
    "\n"
   ]
  },
  {
   "cell_type": "markdown",
   "metadata": {},
   "source": [
    "## Custom Activation Functions"
   ]
  },
  {
   "cell_type": "code",
   "execution_count": 2,
   "metadata": {},
   "outputs": [],
   "source": [
    "initializer0 = keras.initializers. RandomUniform(minval = -1, maxval =2)\n",
    "initializer1 = keras.initializers. RandomUniform(minval = -1, maxval =2)\n",
    "initializer2 = keras.initializers. RandomUniform(minval = -0.05, maxval =0.05)\n",
    "\n",
    "class Diffact(keras.layers.Layer):\n",
    "    def __init__(self):\n",
    "        super(Diffact, self).__init__()\n",
    "        self.k0 = self.add_weight(name='k0', shape = (), initializer=initializer0, trainable=True)\n",
    "        self.k1 = self.add_weight(name='k1', shape = (), initializer=initializer1, trainable=True)\n",
    "        self.k2 = self.add_weight(name='k2', shape = (), initializer=initializer2, trainable=True)\n",
    "        \n",
    "    def call(self, inputs):\n",
    "        return self.k0 + tf.multiply(inputs, self.k1) + tf.multiply(tf.math.multiply(inputs,inputs), self.k2)"
   ]
  },
  {
   "cell_type": "markdown",
   "metadata": {},
   "source": [
    "## Model Graph"
   ]
  },
  {
   "cell_type": "markdown",
   "metadata": {},
   "source": [
    "training on MNIST, trial 1"
   ]
  },
  {
   "cell_type": "code",
   "execution_count": 3,
   "metadata": {},
   "outputs": [
    {
     "name": "stdout",
     "output_type": "stream",
     "text": [
      "x_train shape: (60000, 28, 28, 1)\n",
      "60000 train samples\n",
      "10000 test samples\n"
     ]
    }
   ],
   "source": [
    "num_classes = 10\n",
    "input_shape = (28, 28, 1)\n",
    "\n",
    "# the data, split between train and test sets\n",
    "(x_train, y_train), (x_test, y_test) = keras.datasets.mnist.load_data()\n",
    "\n",
    "# Scale images to the [0, 1] range\n",
    "x_train = x_train.astype(\"float32\") / 255\n",
    "x_test = x_test.astype(\"float32\") / 255\n",
    "# Make sure images have shape (28, 28, 1)\n",
    "x_train = np.expand_dims(x_train, -1)\n",
    "x_test = np.expand_dims(x_test, -1)\n",
    "print(\"x_train shape:\", x_train.shape)\n",
    "print(x_train.shape[0], \"train samples\")\n",
    "print(x_test.shape[0], \"test samples\")\n",
    "\n",
    "\n",
    "# convert class vectors to binary class matrices\n",
    "y_train = keras.utils.to_categorical(y_train, num_classes)\n",
    "y_test = keras.utils.to_categorical(y_test, num_classes)"
   ]
  },
  {
   "cell_type": "code",
   "execution_count": 4,
   "metadata": {
    "scrolled": true
   },
   "outputs": [
    {
     "name": "stdout",
     "output_type": "stream",
     "text": [
      "Model: \"mnist_diffact\"\n",
      "__________________________________________________________________________________________________\n",
      "Layer (type)                    Output Shape         Param #     Connected to                     \n",
      "==================================================================================================\n",
      "input_1 (InputLayer)            [(None, 28, 28, 1)]  0                                            \n",
      "__________________________________________________________________________________________________\n",
      "conv2d (Conv2D)                 (None, 26, 26, 32)   320         input_1[0][0]                    \n",
      "__________________________________________________________________________________________________\n",
      "diffact (Diffact)               multiple             3           conv2d[0][0]                     \n",
      "                                                                 conv2d_1[0][0]                   \n",
      "__________________________________________________________________________________________________\n",
      "max_pooling2d (MaxPooling2D)    (None, 13, 13, 32)   0           diffact[0][0]                    \n",
      "__________________________________________________________________________________________________\n",
      "conv2d_1 (Conv2D)               (None, 11, 11, 64)   18496       max_pooling2d[0][0]              \n",
      "__________________________________________________________________________________________________\n",
      "max_pooling2d_1 (MaxPooling2D)  (None, 5, 5, 64)     0           diffact[1][0]                    \n",
      "__________________________________________________________________________________________________\n",
      "flatten (Flatten)               (None, 1600)         0           max_pooling2d_1[0][0]            \n",
      "__________________________________________________________________________________________________\n",
      "dropout (Dropout)               (None, 1600)         0           flatten[0][0]                    \n",
      "__________________________________________________________________________________________________\n",
      "dense (Dense)                   (None, 10)           16010       dropout[0][0]                    \n",
      "==================================================================================================\n",
      "Total params: 34,829\n",
      "Trainable params: 34,829\n",
      "Non-trainable params: 0\n",
      "__________________________________________________________________________________________________\n"
     ]
    }
   ],
   "source": [
    "inputs = keras.Input(shape=input_shape)\n",
    "x = layers.Conv2D(32, kernel_size=(3, 3))(inputs)\n",
    "diffact = Diffact()\n",
    "x = diffact(x)\n",
    "x = layers.MaxPooling2D(pool_size=(2, 2))(x)\n",
    "x = layers.Conv2D(64, kernel_size=(3, 3))(x)\n",
    "x = diffact(x)\n",
    "x = layers.MaxPooling2D(pool_size=(2, 2))(x)\n",
    "x = layers.Flatten()(x)\n",
    "x = layers.Dropout(0.5)(x)\n",
    "outputs = layers.Dense(num_classes, activation=\"softmax\")(x)\n",
    "\n",
    "model = keras.Model(inputs=inputs, outputs=outputs, name=\"mnist_diffact\")\n",
    "model.summary()"
   ]
  },
  {
   "cell_type": "code",
   "execution_count": 5,
   "metadata": {
    "scrolled": true
   },
   "outputs": [
    {
     "name": "stdout",
     "output_type": "stream",
     "text": [
      "Epoch 1/15\n",
      "  1/422 [..............................] - ETA: 0s - loss: 2.3464 - accuracy: 0.1484WARNING:tensorflow:From C:\\Users\\shamb\\anaconda3\\lib\\site-packages\\tensorflow\\python\\ops\\summary_ops_v2.py:1277: stop (from tensorflow.python.eager.profiler) is deprecated and will be removed after 2020-07-01.\n",
      "Instructions for updating:\n",
      "use `tf.profiler.experimental.stop` instead.\n",
      "422/422 [==============================] - 43s 103ms/step - loss: 0.3366 - accuracy: 0.8969 - val_loss: 0.0907 - val_accuracy: 0.9748\n",
      "Epoch 2/15\n",
      "422/422 [==============================] - 47s 111ms/step - loss: 0.1101 - accuracy: 0.9664 - val_loss: 0.0583 - val_accuracy: 0.9838\n",
      "Epoch 3/15\n",
      "422/422 [==============================] - 67s 160ms/step - loss: 0.0840 - accuracy: 0.9742 - val_loss: 0.0552 - val_accuracy: 0.9852\n",
      "Epoch 4/15\n",
      "422/422 [==============================] - 64s 151ms/step - loss: 0.0736 - accuracy: 0.9775 - val_loss: 0.0472 - val_accuracy: 0.9870\n",
      "Epoch 5/15\n",
      "422/422 [==============================] - 63s 149ms/step - loss: 0.0646 - accuracy: 0.9797 - val_loss: 0.0477 - val_accuracy: 0.9870\n",
      "Epoch 6/15\n",
      "422/422 [==============================] - 82s 193ms/step - loss: 0.0572 - accuracy: 0.9817 - val_loss: 0.0398 - val_accuracy: 0.9885\n",
      "Epoch 7/15\n",
      "422/422 [==============================] - 82s 193ms/step - loss: 0.0539 - accuracy: 0.9834 - val_loss: 0.0408 - val_accuracy: 0.9880los\n",
      "Epoch 8/15\n",
      "422/422 [==============================] - 70s 166ms/step - loss: 0.0490 - accuracy: 0.9844 - val_loss: 0.0406 - val_accuracy: 0.9877\n",
      "Epoch 9/15\n",
      "422/422 [==============================] - 65s 153ms/step - loss: 0.0459 - accuracy: 0.9854 - val_loss: 0.0361 - val_accuracy: 0.9885\n",
      "Epoch 10/15\n",
      "422/422 [==============================] - 63s 149ms/step - loss: 0.0420 - accuracy: 0.9863 - val_loss: 0.0330 - val_accuracy: 0.9900\n",
      "Epoch 11/15\n",
      "422/422 [==============================] - 63s 150ms/step - loss: 0.0410 - accuracy: 0.9872 - val_loss: 0.0344 - val_accuracy: 0.9903\n",
      "Epoch 12/15\n",
      "422/422 [==============================] - 55s 131ms/step - loss: 0.0390 - accuracy: 0.9876 - val_loss: 0.0320 - val_accuracy: 0.9905\n",
      "Epoch 13/15\n",
      "422/422 [==============================] - 39s 93ms/step - loss: 0.0368 - accuracy: 0.9880 - val_loss: 0.0349 - val_accuracy: 0.9905\n",
      "Epoch 14/15\n",
      "422/422 [==============================] - 40s 96ms/step - loss: 0.0327 - accuracy: 0.9889 - val_loss: 0.0329 - val_accuracy: 0.9920\n",
      "Epoch 15/15\n",
      "422/422 [==============================] - 44s 104ms/step - loss: 0.0323 - accuracy: 0.9894 - val_loss: 0.0311 - val_accuracy: 0.9913\n"
     ]
    },
    {
     "data": {
      "text/plain": [
       "<tensorflow.python.keras.callbacks.History at 0x27a0156e5c8>"
      ]
     },
     "execution_count": 5,
     "metadata": {},
     "output_type": "execute_result"
    }
   ],
   "source": [
    "batch_size = 128\n",
    "epochs = 15\n",
    "\n",
    "model.compile(loss=\"categorical_crossentropy\", optimizer=\"adam\", metrics=[\"accuracy\"])\n",
    "\n",
    "log_dir = \"mnistlogs/fit/\" + datetime.datetime.now().strftime(\"%Y%m%d-%H%M%S\")\n",
    "tensorboard_callback = tf.keras.callbacks.TensorBoard(log_dir=log_dir, histogram_freq=1)\n",
    "\n",
    "model.fit(x_train, y_train, batch_size=batch_size, epochs=epochs, validation_split=0.1, callbacks=[tensorboard_callback])"
   ]
  },
  {
   "cell_type": "code",
   "execution_count": 6,
   "metadata": {},
   "outputs": [
    {
     "name": "stdout",
     "output_type": "stream",
     "text": [
      "Test loss: 0.02574027143418789\n",
      "Test accuracy: 0.9911999702453613\n"
     ]
    }
   ],
   "source": [
    "score = model.evaluate(x_test, y_test, verbose=0)\n",
    "print(\"Test loss:\", score[0])\n",
    "print(\"Test accuracy:\", score[1])"
   ]
  },
  {
   "cell_type": "code",
   "execution_count": 7,
   "metadata": {},
   "outputs": [
    {
     "name": "stdout",
     "output_type": "stream",
     "text": [
      "AF coefficients (weights) [-0.13069697, 1.2613214, 0.7247993]\n"
     ]
    }
   ],
   "source": [
    "print(\"AF coefficients (weights) {}\".format(diffact.get_weights()))"
   ]
  },
  {
   "cell_type": "code",
   "execution_count": 13,
   "metadata": {},
   "outputs": [
    {
     "data": {
      "text/plain": [
       "Reusing TensorBoard on port 6051 (pid 4004), started 0:00:40 ago. (Use '!kill 4004' to kill it.)"
      ]
     },
     "metadata": {},
     "output_type": "display_data"
    },
    {
     "data": {
      "text/html": [
       "\n",
       "      <iframe id=\"tensorboard-frame-44fb6f21b457df41\" width=\"100%\" height=\"800\" frameborder=\"0\">\n",
       "      </iframe>\n",
       "      <script>\n",
       "        (function() {\n",
       "          const frame = document.getElementById(\"tensorboard-frame-44fb6f21b457df41\");\n",
       "          const url = new URL(\"/\", window.location);\n",
       "          const port = 6051;\n",
       "          if (port) {\n",
       "            url.port = port;\n",
       "          }\n",
       "          frame.src = url;\n",
       "        })();\n",
       "      </script>\n",
       "    "
      ],
      "text/plain": [
       "<IPython.core.display.HTML object>"
      ]
     },
     "metadata": {},
     "output_type": "display_data"
    }
   ],
   "source": [
    "%tensorboard --logdir mnistlogs/fit --port=6051"
   ]
  },
  {
   "cell_type": "code",
   "execution_count": null,
   "metadata": {},
   "outputs": [],
   "source": []
  }
 ],
 "metadata": {
  "kernelspec": {
   "display_name": "Python 3",
   "language": "python",
   "name": "python3"
  },
  "language_info": {
   "codemirror_mode": {
    "name": "ipython",
    "version": 3
   },
   "file_extension": ".py",
   "mimetype": "text/x-python",
   "name": "python",
   "nbconvert_exporter": "python",
   "pygments_lexer": "ipython3",
   "version": "3.7.6"
  }
 },
 "nbformat": 4,
 "nbformat_minor": 4
}
